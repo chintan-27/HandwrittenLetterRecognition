{
 "cells": [
  {
   "cell_type": "code",
   "execution_count": 1,
   "id": "9191407c",
   "metadata": {},
   "outputs": [
    {
     "data": {
      "text/html": [
       "<div>\n",
       "<style scoped>\n",
       "    .dataframe tbody tr th:only-of-type {\n",
       "        vertical-align: middle;\n",
       "    }\n",
       "\n",
       "    .dataframe tbody tr th {\n",
       "        vertical-align: top;\n",
       "    }\n",
       "\n",
       "    .dataframe thead th {\n",
       "        text-align: right;\n",
       "    }\n",
       "</style>\n",
       "<table border=\"1\" class=\"dataframe\">\n",
       "  <thead>\n",
       "    <tr style=\"text-align: right;\">\n",
       "      <th></th>\n",
       "      <th>0</th>\n",
       "      <th>0.1</th>\n",
       "      <th>0.2</th>\n",
       "      <th>0.3</th>\n",
       "      <th>0.4</th>\n",
       "      <th>0.5</th>\n",
       "      <th>0.6</th>\n",
       "      <th>0.7</th>\n",
       "      <th>0.8</th>\n",
       "      <th>0.9</th>\n",
       "      <th>...</th>\n",
       "      <th>0.639</th>\n",
       "      <th>0.640</th>\n",
       "      <th>0.641</th>\n",
       "      <th>0.642</th>\n",
       "      <th>0.643</th>\n",
       "      <th>0.644</th>\n",
       "      <th>0.645</th>\n",
       "      <th>0.646</th>\n",
       "      <th>0.647</th>\n",
       "      <th>0.648</th>\n",
       "    </tr>\n",
       "  </thead>\n",
       "  <tbody>\n",
       "    <tr>\n",
       "      <th>372445</th>\n",
       "      <td>25</td>\n",
       "      <td>0</td>\n",
       "      <td>0</td>\n",
       "      <td>0</td>\n",
       "      <td>0</td>\n",
       "      <td>0</td>\n",
       "      <td>0</td>\n",
       "      <td>0</td>\n",
       "      <td>0</td>\n",
       "      <td>0</td>\n",
       "      <td>...</td>\n",
       "      <td>0</td>\n",
       "      <td>0</td>\n",
       "      <td>0</td>\n",
       "      <td>0</td>\n",
       "      <td>0</td>\n",
       "      <td>0</td>\n",
       "      <td>0</td>\n",
       "      <td>0</td>\n",
       "      <td>0</td>\n",
       "      <td>0</td>\n",
       "    </tr>\n",
       "    <tr>\n",
       "      <th>372446</th>\n",
       "      <td>25</td>\n",
       "      <td>0</td>\n",
       "      <td>0</td>\n",
       "      <td>0</td>\n",
       "      <td>0</td>\n",
       "      <td>0</td>\n",
       "      <td>0</td>\n",
       "      <td>0</td>\n",
       "      <td>0</td>\n",
       "      <td>0</td>\n",
       "      <td>...</td>\n",
       "      <td>0</td>\n",
       "      <td>0</td>\n",
       "      <td>0</td>\n",
       "      <td>0</td>\n",
       "      <td>0</td>\n",
       "      <td>0</td>\n",
       "      <td>0</td>\n",
       "      <td>0</td>\n",
       "      <td>0</td>\n",
       "      <td>0</td>\n",
       "    </tr>\n",
       "    <tr>\n",
       "      <th>372447</th>\n",
       "      <td>25</td>\n",
       "      <td>0</td>\n",
       "      <td>0</td>\n",
       "      <td>0</td>\n",
       "      <td>0</td>\n",
       "      <td>0</td>\n",
       "      <td>0</td>\n",
       "      <td>0</td>\n",
       "      <td>0</td>\n",
       "      <td>0</td>\n",
       "      <td>...</td>\n",
       "      <td>0</td>\n",
       "      <td>0</td>\n",
       "      <td>0</td>\n",
       "      <td>0</td>\n",
       "      <td>0</td>\n",
       "      <td>0</td>\n",
       "      <td>0</td>\n",
       "      <td>0</td>\n",
       "      <td>0</td>\n",
       "      <td>0</td>\n",
       "    </tr>\n",
       "    <tr>\n",
       "      <th>372448</th>\n",
       "      <td>25</td>\n",
       "      <td>0</td>\n",
       "      <td>0</td>\n",
       "      <td>0</td>\n",
       "      <td>0</td>\n",
       "      <td>0</td>\n",
       "      <td>0</td>\n",
       "      <td>0</td>\n",
       "      <td>0</td>\n",
       "      <td>0</td>\n",
       "      <td>...</td>\n",
       "      <td>0</td>\n",
       "      <td>0</td>\n",
       "      <td>0</td>\n",
       "      <td>0</td>\n",
       "      <td>0</td>\n",
       "      <td>0</td>\n",
       "      <td>0</td>\n",
       "      <td>0</td>\n",
       "      <td>0</td>\n",
       "      <td>0</td>\n",
       "    </tr>\n",
       "    <tr>\n",
       "      <th>372449</th>\n",
       "      <td>25</td>\n",
       "      <td>0</td>\n",
       "      <td>0</td>\n",
       "      <td>0</td>\n",
       "      <td>0</td>\n",
       "      <td>0</td>\n",
       "      <td>0</td>\n",
       "      <td>0</td>\n",
       "      <td>0</td>\n",
       "      <td>0</td>\n",
       "      <td>...</td>\n",
       "      <td>0</td>\n",
       "      <td>0</td>\n",
       "      <td>0</td>\n",
       "      <td>0</td>\n",
       "      <td>0</td>\n",
       "      <td>0</td>\n",
       "      <td>0</td>\n",
       "      <td>0</td>\n",
       "      <td>0</td>\n",
       "      <td>0</td>\n",
       "    </tr>\n",
       "  </tbody>\n",
       "</table>\n",
       "<p>5 rows × 785 columns</p>\n",
       "</div>"
      ],
      "text/plain": [
       "         0  0.1  0.2  0.3  0.4  0.5  0.6  0.7  0.8  0.9  ...  0.639  0.640  \\\n",
       "372445  25    0    0    0    0    0    0    0    0    0  ...      0      0   \n",
       "372446  25    0    0    0    0    0    0    0    0    0  ...      0      0   \n",
       "372447  25    0    0    0    0    0    0    0    0    0  ...      0      0   \n",
       "372448  25    0    0    0    0    0    0    0    0    0  ...      0      0   \n",
       "372449  25    0    0    0    0    0    0    0    0    0  ...      0      0   \n",
       "\n",
       "        0.641  0.642  0.643  0.644  0.645  0.646  0.647  0.648  \n",
       "372445      0      0      0      0      0      0      0      0  \n",
       "372446      0      0      0      0      0      0      0      0  \n",
       "372447      0      0      0      0      0      0      0      0  \n",
       "372448      0      0      0      0      0      0      0      0  \n",
       "372449      0      0      0      0      0      0      0      0  \n",
       "\n",
       "[5 rows x 785 columns]"
      ]
     },
     "execution_count": 1,
     "metadata": {},
     "output_type": "execute_result"
    }
   ],
   "source": [
    "import pandas as pd\n",
    "dataset = pd.read_csv(\"dataset/A_Z Handwritten Data.csv\")\n",
    "dataset.tail()"
   ]
  },
  {
   "cell_type": "code",
   "execution_count": 2,
   "id": "9666b6ba",
   "metadata": {},
   "outputs": [
    {
     "name": "stdout",
     "output_type": "stream",
     "text": [
      "<class 'pandas.core.frame.DataFrame'>\n",
      "RangeIndex: 372450 entries, 0 to 372449\n",
      "Columns: 785 entries, 0 to 0.648\n",
      "dtypes: int64(785)\n",
      "memory usage: 2.2 GB\n"
     ]
    }
   ],
   "source": [
    "dataset.info()"
   ]
  },
  {
   "cell_type": "code",
   "execution_count": 3,
   "id": "d3e42bfb",
   "metadata": {},
   "outputs": [],
   "source": [
    "dataset.astype('float32')\n",
    "dataset.rename(columns={'0':'label'}, inplace=True)\n",
    "\n",
    "X = dataset.drop('label',axis = 1)\n",
    "y = dataset['label']"
   ]
  },
  {
   "cell_type": "code",
   "execution_count": 4,
   "id": "3277e2ce",
   "metadata": {},
   "outputs": [],
   "source": [
    "alphabets=\"abcdefghijklmnopqrstuvwxyz\"\n",
    "letter_name=[]\n",
    "[letter_name.append(i) for i in alphabets]\n",
    "name_tag = pd.DataFrame(letter_name)"
   ]
  },
  {
   "cell_type": "code",
   "execution_count": 5,
   "id": "0eb42cd8",
   "metadata": {},
   "outputs": [
    {
     "name": "stderr",
     "output_type": "stream",
     "text": [
      "C:\\Users\\Admin\\AppData\\Local\\Packages\\PythonSoftwareFoundation.Python.3.9_qbz5n2kfra8p0\\LocalCache\\local-packages\\Python39\\site-packages\\seaborn\\distributions.py:2619: FutureWarning: `distplot` is a deprecated function and will be removed in a future version. Please adapt your code to use either `displot` (a figure-level function with similar flexibility) or `histplot` (an axes-level function for histograms).\n",
      "  warnings.warn(msg, FutureWarning)\n"
     ]
    },
    {
     "data": {
      "text/plain": [
       "<AxesSubplot:xlabel='label'>"
      ]
     },
     "execution_count": 5,
     "metadata": {},
     "output_type": "execute_result"
    },
    {
     "data": {
      "image/png": "[encoded data removed]",
      "text/plain": [
       "<Figure size 1080x360 with 1 Axes>"
      ]
     },
     "metadata": {
      "needs_background": "light"
     },
     "output_type": "display_data"
    }
   ],
   "source": [
    "import matplotlib.pyplot as plt\n",
    "import seaborn as sns\n",
    "plt.figure(figsize=(15,5))\n",
    "sns.distplot(y,kde=False)"
   ]
  },
  {
   "cell_type": "code",
   "execution_count": 6,
   "id": "80ee10cd",
   "metadata": {},
   "outputs": [
    {
     "data": {
      "image/png": "[encoded data removed]",
      "text/plain": [
       "<Figure size 432x288 with 1 Axes>"
      ]
     },
     "metadata": {
      "needs_background": "light"
     },
     "output_type": "display_data"
    },
    {
     "data": {
      "image/png": "[encoded data removed]",
      "text/plain": [
       "<Figure size 432x288 with 1 Axes>"
      ]
     },
     "metadata": {
      "needs_background": "light"
     },
     "output_type": "display_data"
    },
    {
     "data": {
      "image/png": "[encoded data removed]",
      "text/plain": [
       "<Figure size 432x288 with 1 Axes>"
      ]
     },
     "metadata": {
      "needs_background": "light"
     },
     "output_type": "display_data"
    }
   ],
   "source": [
    "import numpy as np\n",
    "np.random.seed(2)\n",
    "for i in range(3):\n",
    "    plt.imshow(X.iloc[np.random.randint(0,372449)].values.reshape(28,28),cmap='Greys')\n",
    "    plt.show()"
   ]
  },
  {
   "cell_type": "code",
   "execution_count": 7,
   "id": "f260dd44",
   "metadata": {},
   "outputs": [],
   "source": [
    "from tensorflow.keras.models import Sequential\n",
    "from tensorflow.keras.layers import Dense\n",
    "from tensorflow.keras.layers import Dropout\n",
    "from tensorflow.keras.layers import Flatten\n",
    "from tensorflow.keras.optimizers import Adam\n",
    "from tensorflow.keras.layers import Conv2D\n",
    "from tensorflow.keras.layers import MaxPooling2D\n",
    "from tensorflow.keras import backend as K\n",
    "from tensorflow.keras.utils import to_categorical\n",
    "from sklearn.model_selection import train_test_split\n",
    "import numpy as np"
   ]
  },
  {
   "cell_type": "code",
   "execution_count": 8,
   "id": "90c7edc6",
   "metadata": {},
   "outputs": [],
   "source": [
    "dataset = np.loadtxt('dataset/A_Z Handwritten Data.csv', delimiter=',')\n",
    "\n",
    "X = dataset[:,0:784]\n",
    "Y = dataset[:,0]\n",
    "(X_train, X_test, Y_train, Y_test) = train_test_split(X, Y, test_size=0.3, random_state=2)\n",
    "\n",
    "X_train = X_train.reshape(X_train.shape[0], 28, 28, 1).astype('float32')\n",
    "X_test = X_test.reshape(X_test.shape[0], 28, 28, 1).astype('float32')\n",
    "\n",
    "X_train = X_train / 255\n",
    "X_test = X_test / 255"
   ]
  },
  {
   "cell_type": "code",
   "execution_count": 9,
   "id": "59440ef1",
   "metadata": {},
   "outputs": [],
   "source": [
    "Y_train = to_categorical(Y_train)\n",
    "Y_test = to_categorical(Y_test)\n",
    "\n",
    "num_classes = Y_test.shape[1]"
   ]
  },
  {
   "cell_type": "code",
   "execution_count": 10,
   "id": "a2b84db9",
   "metadata": {},
   "outputs": [
    {
     "name": "stdout",
     "output_type": "stream",
     "text": [
      "Model: \"sequential\"\n",
      "_________________________________________________________________\n",
      "Layer (type)                 Output Shape              Param #   \n",
      "=================================================================\n",
      "conv2d (Conv2D)              (None, 24, 24, 32)        832       \n",
      "_________________________________________________________________\n",
      "max_pooling2d (MaxPooling2D) (None, 12, 12, 32)        0         \n",
      "_________________________________________________________________\n",
      "flatten (Flatten)            (None, 4608)              0         \n",
      "_________________________________________________________________\n",
      "dense (Dense)                (None, 128)               589952    \n",
      "_________________________________________________________________\n",
      "dense_1 (Dense)              (None, 26)                3354      \n",
      "=================================================================\n",
      "Total params: 594,138\n",
      "Trainable params: 594,138\n",
      "Non-trainable params: 0\n",
      "_________________________________________________________________\n",
      "None\n"
     ]
    }
   ],
   "source": [
    "model = Sequential()\n",
    "model.add(Conv2D(32, (5, 5), input_shape=(28, 28, 1), activation='relu'))\n",
    "model.add(MaxPooling2D(pool_size=(2, 2)))\n",
    "model.add(Flatten())\n",
    "model.add(Dense(128, activation='relu'))\n",
    "model.add(Dense(num_classes, activation='softmax'))\n",
    "\n",
    "model.compile(optimizer = Adam(learning_rate = 0.01), loss = 'categorical_crossentropy', metrics = ['accuracy'])\n",
    "\n",
    "print(model.summary())"
   ]
  },
  {
   "cell_type": "code",
   "execution_count": 11,
   "id": "c22e278a",
   "metadata": {},
   "outputs": [
    {
     "name": "stdout",
     "output_type": "stream",
     "text": [
      "Epoch 1/5\n",
      "2037/2037 [==============================] - 68s 33ms/step - loss: 0.1990 - accuracy: 0.9442\n",
      "Epoch 2/5\n",
      "2037/2037 [==============================] - 70s 34ms/step - loss: 0.1003 - accuracy: 0.9717\n",
      "Epoch 3/5\n",
      "2037/2037 [==============================] - 66s 32ms/step - loss: 0.0878 - accuracy: 0.9749\n",
      "Epoch 4/5\n",
      "2037/2037 [==============================] - 67s 33ms/step - loss: 0.0801 - accuracy: 0.9771\n",
      "Epoch 5/5\n",
      "2037/2037 [==============================] - 68s 34ms/step - loss: 0.0730 - accuracy: 0.9796\n"
     ]
    }
   ],
   "source": [
    "Train1=model.fit(X_train, Y_train,batch_size=128, epochs=5)"
   ]
  },
  {
   "cell_type": "code",
   "execution_count": 12,
   "id": "672f062a",
   "metadata": {},
   "outputs": [
    {
     "name": "stdout",
     "output_type": "stream",
     "text": [
      "Epoch 1/5\n",
      "873/873 [==============================] - 29s 33ms/step - loss: 0.0950 - accuracy: 0.9745\n",
      "Epoch 2/5\n",
      "873/873 [==============================] - 31s 36ms/step - loss: 0.0708 - accuracy: 0.9792\n",
      "Epoch 3/5\n",
      "873/873 [==============================] - 30s 34ms/step - loss: 0.0615 - accuracy: 0.9822\n",
      "Epoch 4/5\n",
      "873/873 [==============================] - 28s 32ms/step - loss: 0.0579 - accuracy: 0.9829\n",
      "Epoch 5/5\n",
      "873/873 [==============================] - 28s 32ms/step - loss: 0.0552 - accuracy: 0.9844\n"
     ]
    }
   ],
   "source": [
    "Test1=model.fit(X_test, Y_test,batch_size=128, epochs=5)"
   ]
  },
  {
   "cell_type": "code",
   "execution_count": 13,
   "id": "d10a6abb",
   "metadata": {},
   "outputs": [
    {
     "name": "stdout",
     "output_type": "stream",
     "text": [
      "Model: \"sequential_1\"\n",
      "_________________________________________________________________\n",
      "Layer (type)                 Output Shape              Param #   \n",
      "=================================================================\n",
      "conv2d_1 (Conv2D)            (None, 24, 24, 32)        832       \n",
      "_________________________________________________________________\n",
      "max_pooling2d_1 (MaxPooling2 (None, 12, 12, 32)        0         \n",
      "_________________________________________________________________\n",
      "flatten_1 (Flatten)          (None, 4608)              0         \n",
      "_________________________________________________________________\n",
      "dense_2 (Dense)              (None, 128)               589952    \n",
      "_________________________________________________________________\n",
      "dense_3 (Dense)              (None, 26)                3354      \n",
      "=================================================================\n",
      "Total params: 594,138\n",
      "Trainable params: 594,138\n",
      "Non-trainable params: 0\n",
      "_________________________________________________________________\n",
      "None\n"
     ]
    }
   ],
   "source": [
    "model = Sequential()\n",
    "model.add(Conv2D(32, (5, 5), input_shape=(28, 28, 1), activation='relu'))\n",
    "model.add(MaxPooling2D(pool_size=(2, 2)))\n",
    "model.add(Flatten())\n",
    "model.add(Dense(128, activation='relu'))\n",
    "model.add(Dense(num_classes, activation='softmax'))\n",
    "print(model.summary())\n",
    "\n",
    "model.compile(optimizer = \"rmsprop\", loss = 'categorical_crossentropy', metrics = ['accuracy'])"
   ]
  },
  {
   "cell_type": "code",
   "execution_count": 14,
   "id": "a6dcc8f9",
   "metadata": {},
   "outputs": [
    {
     "name": "stdout",
     "output_type": "stream",
     "text": [
      "Epoch 1/5\n",
      "2037/2037 [==============================] - 73s 35ms/step - loss: 0.1932 - accuracy: 0.9462\n",
      "Epoch 2/5\n",
      "2037/2037 [==============================] - 72s 35ms/step - loss: 0.0650 - accuracy: 0.9824\n",
      "Epoch 3/5\n",
      "2037/2037 [==============================] - 72s 36ms/step - loss: 0.0468 - accuracy: 0.9875\n",
      "Epoch 4/5\n",
      "2037/2037 [==============================] - 73s 36ms/step - loss: 0.0359 - accuracy: 0.99050s - loss: 0.0359 - accuracy: 0.\n",
      "Epoch 5/5\n",
      "2037/2037 [==============================] - 73s 36ms/step - loss: 0.0288 - accuracy: 0.9924\n"
     ]
    }
   ],
   "source": [
    "Train2=model.fit(X_train, Y_train,batch_size=128, epochs=5)"
   ]
  },
  {
   "cell_type": "code",
   "execution_count": 15,
   "id": "23d9fb67",
   "metadata": {},
   "outputs": [
    {
     "name": "stdout",
     "output_type": "stream",
     "text": [
      "Epoch 1/5\n",
      "873/873 [==============================] - 32s 37ms/step - loss: 0.0441 - accuracy: 0.9888\n",
      "Epoch 2/5\n",
      "873/873 [==============================] - 35s 40ms/step - loss: 0.0295 - accuracy: 0.9924\n",
      "Epoch 3/5\n",
      "873/873 [==============================] - 36s 41ms/step - loss: 0.0218 - accuracy: 0.9944\n",
      "Epoch 4/5\n",
      "873/873 [==============================] - 36s 41ms/step - loss: 0.0159 - accuracy: 0.9958\n",
      "Epoch 5/5\n",
      "873/873 [==============================] - 35s 41ms/step - loss: 0.0118 - accuracy: 0.9967\n"
     ]
    }
   ],
   "source": [
    "Test2=model.fit(X_test, Y_test,batch_size=128, epochs=5)"
   ]
  },
  {
   "cell_type": "code",
   "execution_count": 16,
   "id": "c4a3db98",
   "metadata": {},
   "outputs": [
    {
     "data": {
      "image/png": "[encoded data removed]",
      "text/plain": [
       "<Figure size 720x360 with 2 Axes>"
      ]
     },
     "metadata": {
      "needs_background": "light"
     },
     "output_type": "display_data"
    }
   ],
   "source": [
    "metrics = ['loss', 'accuracy']\n",
    "\n",
    "plt.figure(figsize=(10, 5))\n",
    "#Use \"For Loop\".\n",
    "for i in range(len(metrics)):\n",
    "    metric = metrics[i]\n",
    "\n",
    "    plt.subplot(1, 2, i+1)\n",
    "\n",
    "    plt.title(metric) \n",
    "    plt_train1 = Train1.history[metric] \n",
    "    plt_test1 = Test1.history[metric]\n",
    "    plt_train2 = Train2.history[metric]\n",
    "    plt_test2 = Test2.history[metric] \n",
    "    #plot them all\n",
    "    plt.plot(plt_train1, label='train1') \n",
    "    plt.plot(plt_train2, label='train2') \n",
    "    plt.plot(plt_test1, label='test1') \n",
    "    plt.plot(plt_test2, label='test2') \n",
    "    plt.legend() \n",
    "plt.show()"
   ]
  },
  {
   "cell_type": "code",
   "execution_count": 17,
   "id": "2849c4d2",
   "metadata": {},
   "outputs": [
    {
     "name": "stdout",
     "output_type": "stream",
     "text": [
      "Model: \"sequential_2\"\n",
      "_________________________________________________________________\n",
      "Layer (type)                 Output Shape              Param #   \n",
      "=================================================================\n",
      "conv2d_2 (Conv2D)            (None, 24, 24, 32)        832       \n",
      "_________________________________________________________________\n",
      "max_pooling2d_2 (MaxPooling2 (None, 12, 12, 32)        0         \n",
      "_________________________________________________________________\n",
      "dropout (Dropout)            (None, 12, 12, 32)        0         \n",
      "_________________________________________________________________\n",
      "flatten_2 (Flatten)          (None, 4608)              0         \n",
      "_________________________________________________________________\n",
      "dense_4 (Dense)              (None, 128)               589952    \n",
      "_________________________________________________________________\n",
      "dense_5 (Dense)              (None, 26)                3354      \n",
      "=================================================================\n",
      "Total params: 594,138\n",
      "Trainable params: 594,138\n",
      "Non-trainable params: 0\n",
      "_________________________________________________________________\n",
      "None\n"
     ]
    }
   ],
   "source": [
    "model = Sequential()\n",
    "model.add(Conv2D(32, (5, 5), input_shape=(28, 28, 1), activation='relu'))\n",
    "model.add(MaxPooling2D(pool_size=(2, 2)))\n",
    "model.add(Dropout(0.2))\n",
    "model.add(Flatten())\n",
    "model.add(Dense(128, activation='relu'))\n",
    "model.add(Dense(num_classes, activation='softmax'))\n",
    "#Print the model\n",
    "print(model.summary())\n",
    "#Compile the model\n",
    "model.compile(optimizer = \"rmsprop\", loss = 'categorical_crossentropy', metrics = ['accuracy'])"
   ]
  },
  {
   "cell_type": "code",
   "execution_count": 18,
   "id": "d8976ecf",
   "metadata": {},
   "outputs": [
    {
     "name": "stdout",
     "output_type": "stream",
     "text": [
      "Epoch 1/5\n",
      "2037/2037 [==============================] - 89s 44ms/step - loss: 0.1873 - accuracy: 0.9472\n",
      "Epoch 2/5\n",
      "2037/2037 [==============================] - 83s 41ms/step - loss: 0.0681 - accuracy: 0.9813\n",
      "Epoch 3/5\n",
      "2037/2037 [==============================] - 83s 41ms/step - loss: 0.0504 - accuracy: 0.9862\n",
      "Epoch 4/5\n",
      "2037/2037 [==============================] - 84s 41ms/step - loss: 0.0419 - accuracy: 0.9886\n",
      "Epoch 5/5\n",
      "2037/2037 [==============================] - 83s 41ms/step - loss: 0.0357 - accuracy: 0.9904\n",
      "Epoch 1/5\n",
      "873/873 [==============================] - 35s 41ms/step - loss: 0.0486 - accuracy: 0.9874\n",
      "Epoch 2/5\n",
      "873/873 [==============================] - 35s 40ms/step - loss: 0.0358 - accuracy: 0.9904\n",
      "Epoch 3/5\n",
      "873/873 [==============================] - 36s 41ms/step - loss: 0.0288 - accuracy: 0.9923\n",
      "Epoch 4/5\n",
      "873/873 [==============================] - 35s 40ms/step - loss: 0.0233 - accuracy: 0.9938\n",
      "Epoch 5/5\n",
      "873/873 [==============================] - 36s 42ms/step - loss: 0.0209 - accuracy: 0.9940\n"
     ]
    }
   ],
   "source": [
    "Train3=model.fit(X_train, Y_train,batch_size=128, epochs=5)\n",
    "Test3=model.fit(X_test, Y_test,batch_size=128, epochs=5)"
   ]
  },
  {
   "cell_type": "code",
   "execution_count": 19,
   "id": "f9110a52",
   "metadata": {},
   "outputs": [
    {
     "data": {
      "image/png": "[encoded data removed]",
      "text/plain": [
       "<Figure size 720x360 with 2 Axes>"
      ]
     },
     "metadata": {
      "needs_background": "light"
     },
     "output_type": "display_data"
    }
   ],
   "source": [
    "metrics = ['loss', 'accuracy']\n",
    "\n",
    "plt.figure(figsize=(10, 5))\n",
    "\n",
    "for i in range(len(metrics)):\n",
    "    metric = metrics[i]\n",
    "    plt.subplot(1, 2, i+1)\n",
    "    plt.title(metric) \n",
    "    plt_train1 = Train1.history[metric] \n",
    "    plt_test1 = Test1.history[metric]\n",
    "    plt_train2 = Train2.history[metric]\n",
    "    plt_test2 = Test2.history[metric] \n",
    "    plt_train3 = Train3.history[metric]\n",
    "    plt_test3 = Test3.history[metric] \n",
    "    plt.plot(plt_train1, label='train1') \n",
    "    plt.plot(plt_train2, label='train2') \n",
    "    plt.plot(plt_train3, label='train3') \n",
    "    plt.plot(plt_test1, label='test1') \n",
    "    plt.plot(plt_test2, label='test2') \n",
    "    plt.plot(plt_test3, label='test3') \n",
    "    plt.legend() \n",
    "plt.show()"
   ]
  },
  {
   "cell_type": "code",
   "execution_count": 27,
   "id": "fe975fe3",
   "metadata": {},
   "outputs": [
    {
     "data": {
      "text/plain": [
       "<matplotlib.image.AxesImage at 0x29160651370>"
      ]
     },
     "execution_count": 27,
     "metadata": {},
     "output_type": "execute_result"
    },
    {
     "data": {
      "image/png": "[encoded data removed]",
      "text/plain": [
       "<Figure size 432x288 with 1 Axes>"
      ]
     },
     "metadata": {
      "needs_background": "light"
     },
     "output_type": "display_data"
    }
   ],
   "source": [
    "plt.imshow(X_test[[1]].reshape(28,28),cmap='Greys')"
   ]
  },
  {
   "cell_type": "code",
   "execution_count": 28,
   "id": "d4ea546b",
   "metadata": {},
   "outputs": [
    {
     "data": {
      "text/plain": [
       "array([[1.78769408e-19, 1.86747314e-18, 6.89263871e-15, 6.56078664e-12,\n",
       "        7.71599396e-25, 0.00000000e+00, 7.92115301e-17, 8.79892131e-11,\n",
       "        7.75827879e-35, 1.68357620e-10, 1.62735001e-16, 3.24981125e-10,\n",
       "        1.63847158e-09, 1.24392319e-09, 2.20738827e-09, 3.82219611e-20,\n",
       "        5.68252476e-12, 9.87721264e-21, 2.45152800e-18, 1.28383278e-17,\n",
       "        9.99999762e-01, 5.38050449e-09, 2.86007577e-07, 3.29284981e-22,\n",
       "        7.43411843e-12, 1.18046756e-26]], dtype=float32)"
      ]
     },
     "execution_count": 28,
     "metadata": {},
     "output_type": "execute_result"
    }
   ],
   "source": [
    "prediction=model.predict(X_test[[1]]) \n",
    "prediction"
   ]
  },
  {
   "cell_type": "code",
   "execution_count": 29,
   "id": "a1326cf6",
   "metadata": {},
   "outputs": [
    {
     "name": "stdout",
     "output_type": "stream",
     "text": [
      "The answer is u . :-)\n"
     ]
    }
   ],
   "source": [
    "#Preparation for this predction. \n",
    "alphabets=\"abcdefghijklmnopqrstuvwxyz\"\n",
    "list1=[]\n",
    "[list1.append(i) for i in range(26)]\n",
    "list2=[]\n",
    "[list2.append(i) for i in alphabets]\n",
    "dic = dict(zip(list1, list2))\n",
    "#Let's check the result.\n",
    "print(\"The answer is\",dic[np.argmax(prediction)],\". :-)\")"
   ]
  },
  {
   "cell_type": "code",
   "execution_count": 23,
   "id": "719affe6",
   "metadata": {},
   "outputs": [],
   "source": [
    "model.save(\"Model.h5\")"
   ]
  },
  {
   "cell_type": "code",
   "execution_count": null,
   "id": "e643c8d3",
   "metadata": {},
   "outputs": [],
   "source": []
  }
 ],
 "metadata": {
  "kernelspec": {
   "display_name": "Python 3 (ipykernel)",
   "language": "python",
   "name": "python3"
  },
  "language_info": {
   "codemirror_mode": {
    "name": "ipython",
    "version": 3
   },
   "file_extension": ".py",
   "mimetype": "text/x-python",
   "name": "python",
   "nbconvert_exporter": "python",
   "pygments_lexer": "ipython3",
   "version": "3.9.7"
  }
 },
 "nbformat": 4,
 "nbformat_minor": 5
}
